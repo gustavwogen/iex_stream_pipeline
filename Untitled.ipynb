{
 "cells": [
  {
   "cell_type": "code",
   "execution_count": 1,
   "id": "817addbd",
   "metadata": {},
   "outputs": [],
   "source": [
    "import requests\n",
    "import asyncio"
   ]
  },
  {
   "cell_type": "code",
   "execution_count": null,
   "id": "9e91dc12",
   "metadata": {},
   "outputs": [],
   "source": [
    "TOKEN = \"Tpk_15eaa4b48b1142ff8273d6b8bf63131c\"\n",
    "url = f'https://sandbox-sse.iexapis.com/stable/stocksUS1Second?token={TOKEN}&symbols=spy'\n",
    "\n",
    "header = {\n",
    "    'Accept': 'text/event-stream'\n",
    "}\n",
    "def func(url, header):\n",
    "    while requests.get(url, headers=header):\n",
    "        yield res.text\n",
    "        \n",
    "        \n",
    "# for text in func(url, header):\n",
    "#     print(text)"
   ]
  },
  {
   "cell_type": "code",
   "execution_count": null,
   "id": "df0860cd",
   "metadata": {},
   "outputs": [],
   "source": [
    "import json\n",
    "import pprint\n",
    "import sseclient\n",
    "\n",
    "def with_urllib3(url, headers):\n",
    "    \"\"\"Get a streaming response for the given event feed using urllib3.\"\"\"\n",
    "    import urllib3\n",
    "    http = urllib3.PoolManager()\n",
    "    return http.request('GET', url, preload_content=False, headers=headers)\n",
    "\n",
    "def with_requests(url, headers):\n",
    "    \"\"\"Get a streaming response for the given event feed using requests.\"\"\"\n",
    "    import requests\n",
    "    return requests.get(url, stream=True, headers=headers)\n",
    "\n",
    "url = 'http://domain.com/events'\n",
    "headers = {'Accept': 'text/event-stream'}\n",
    "response = with_urllib3(url, headers)  # or with_requests(url, headers)\n",
    "client = sseclient.SSEClient(response)\n",
    "for event in client.events():\n",
    "    pprint.pprint(json.loads(event.data))"
   ]
  }
 ],
 "metadata": {
  "kernelspec": {
   "display_name": "Python 3 (ipykernel)",
   "language": "python",
   "name": "python3"
  },
  "language_info": {
   "codemirror_mode": {
    "name": "ipython",
    "version": 3
   },
   "file_extension": ".py",
   "mimetype": "text/x-python",
   "name": "python",
   "nbconvert_exporter": "python",
   "pygments_lexer": "ipython3",
   "version": "3.9.12"
  }
 },
 "nbformat": 4,
 "nbformat_minor": 5
}
